{
 "cells": [
  {
   "cell_type": "markdown",
   "metadata": {},
   "source": [
    "# Importing Lybraries"
   ]
  },
  {
   "cell_type": "code",
   "execution_count": null,
   "metadata": {},
   "outputs": [],
   "source": [
    "import numpy as np\n",
    "import pandas as pd\n",
    "import scipy.stats as st"
   ]
  },
  {
   "cell_type": "markdown",
   "metadata": {},
   "source": [
    "# Importing data"
   ]
  },
  {
   "cell_type": "code",
   "execution_count": null,
   "metadata": {},
   "outputs": [],
   "source": [
    "day1=pd.read_excel(r\"C:\\Users\\Portu\\Downloads\\day1.xlsx\")\n",
    "day1.head()"
   ]
  },
  {
   "cell_type": "code",
   "execution_count": null,
   "metadata": {},
   "outputs": [],
   "source": [
    "day2=pd.read_excel(r\"C:\\Users\\Portu\\Downloads\\day2.xlsx\")\n",
    "day2.head()"
   ]
  },
  {
   "cell_type": "code",
   "execution_count": null,
   "metadata": {},
   "outputs": [],
   "source": [
    "day3=pd.read_excel(r\"C:\\Users\\Portu\\Downloads\\day3.xlsx\")\n",
    "day3.head()"
   ]
  },
  {
   "cell_type": "markdown",
   "metadata": {},
   "source": [
    "# Does change the behave from day to day in all bootcamp(Three courses together)?"
   ]
  },
  {
   "cell_type": "markdown",
   "metadata": {},
   "source": [
    "### Facemask on table "
   ]
  },
  {
   "cell_type": "code",
   "execution_count": null,
   "metadata": {},
   "outputs": [],
   "source": [
    "st.ttest_ind(day1[\"facemask_table\"].apply(float).dropna(), day2[\"facemask_table\"].dropna(), equal_var=False)"
   ]
  },
  {
   "cell_type": "code",
   "execution_count": null,
   "metadata": {},
   "outputs": [],
   "source": [
    "st.ttest_ind(day1[\"facemask_table\"].apply(float).dropna(), day3[\"facemask_table\"].dropna(), equal_var=False)"
   ]
  },
  {
   "cell_type": "code",
   "execution_count": null,
   "metadata": {},
   "outputs": [],
   "source": [
    "st.ttest_ind(day2[\"facemask_table\"].apply(float).dropna(), day3[\"facemask_table\"].dropna(), equal_var=False)"
   ]
  },
  {
   "cell_type": "markdown",
   "metadata": {},
   "source": [
    "### Mask after eat"
   ]
  },
  {
   "cell_type": "code",
   "execution_count": null,
   "metadata": {},
   "outputs": [],
   "source": [
    "st.ttest_ind(day1[\"maskaftereat\"].apply(float).dropna(), day2[\"maskaftereat\"].dropna(), equal_var=False)"
   ]
  },
  {
   "cell_type": "code",
   "execution_count": null,
   "metadata": {},
   "outputs": [],
   "source": [
    "st.ttest_ind(day1[\"facemask_table\"].apply(float).dropna(), day3[\"facemask_table\"].dropna(), equal_var=False)"
   ]
  },
  {
   "cell_type": "code",
   "execution_count": null,
   "metadata": {},
   "outputs": [],
   "source": [
    "st.ttest_ind(day2[\"facemask_table\"].apply(float).dropna(), day3[\"facemask_table\"].dropna(), equal_var=False)"
   ]
  },
  {
   "cell_type": "markdown",
   "metadata": {},
   "source": [
    "# Contingency table "
   ]
  },
  {
   "cell_type": "markdown",
   "metadata": {},
   "source": [
    "## Facemask table"
   ]
  },
  {
   "cell_type": "code",
   "execution_count": null,
   "metadata": {},
   "outputs": [],
   "source": [
    "data1=day1[day1[\"bootcamp\"]==\"Data\"]\n",
    "data1\n",
    "sumdatafm1=((data1[\"facemask_table\"].sum()))\n",
    "sumdatafm1"
   ]
  },
  {
   "cell_type": "code",
   "execution_count": null,
   "metadata": {},
   "outputs": [],
   "source": [
    "data2=day2[day2[\"bootcamp\"]==\"Data\"]\n",
    "data2\n",
    "sumdatafm2=((data2[\"facemask_table\"].sum()))\n",
    "sumdatafm2"
   ]
  },
  {
   "cell_type": "code",
   "execution_count": null,
   "metadata": {},
   "outputs": [],
   "source": [
    "data3=day3[day3[\"bootcamp\"]==\"Data\"]\n",
    "data3\n",
    "sumdatafm3=((data3[\"facemask_table\"].sum()))\n",
    "sumdatafm3"
   ]
  },
  {
   "cell_type": "code",
   "execution_count": null,
   "metadata": {},
   "outputs": [],
   "source": [
    "web1=day1[day1[\"bootcamp\"]==\"Web\"]\n",
    "web1\n",
    "sumwebfm1=((web1[\"facemask_table\"].sum()))\n",
    "sumwebfm1"
   ]
  },
  {
   "cell_type": "code",
   "execution_count": null,
   "metadata": {},
   "outputs": [],
   "source": [
    "web2=day2[day2[\"bootcamp\"]==\"Web\"]\n",
    "web2\n",
    "sumwebfm2=((web2[\"facemask_table\"].sum()))\n",
    "sumwebfm2"
   ]
  },
  {
   "cell_type": "code",
   "execution_count": null,
   "metadata": {},
   "outputs": [],
   "source": [
    "web3=day3[day3[\"bootcamp\"]==\"Web\"]\n",
    "web3\n",
    "sumwebfm3=((web3[\"facemask_table\"].sum()))\n",
    "sumwebfm3"
   ]
  },
  {
   "cell_type": "code",
   "execution_count": null,
   "metadata": {},
   "outputs": [],
   "source": [
    "ux1=day1[day1[\"bootcamp\"]==\"Ux\"]\n",
    "ux1\n",
    "sumuxfm1=((ux1[\"facemask_table\"].sum()))\n",
    "sumuxfm1"
   ]
  },
  {
   "cell_type": "code",
   "execution_count": null,
   "metadata": {},
   "outputs": [],
   "source": [
    "ux2=day2[day2[\"bootcamp\"]==\"Ux\"]\n",
    "ux2\n",
    "sumuxfm2=((ux2[\"facemask_table\"].sum()))\n",
    "sumuxfm2"
   ]
  },
  {
   "cell_type": "code",
   "execution_count": null,
   "metadata": {},
   "outputs": [],
   "source": [
    "ux3=day3[day3[\"bootcamp\"]==\"Ux\"]\n",
    "ux3\n",
    "sumuxfm3=((ux3[\"facemask_table\"].sum()))\n",
    "sumuxfm3"
   ]
  },
  {
   "cell_type": "code",
   "execution_count": null,
   "metadata": {},
   "outputs": [],
   "source": [
    "mask_table=[[sumdatafm1,sumdatafm2,sumdatafm3],\n",
    "            [sumwebfm1,sumwebfm2,sumwebfm3],\n",
    "            [sumuxfm1,sumuxfm2,sumuxfm3]]\n",
    "\n",
    "st.chi2_contingency(np.array(mask_table))"
   ]
  },
  {
   "cell_type": "code",
   "execution_count": null,
   "metadata": {},
   "outputs": [],
   "source": [
    "mt=[[sumdatafm1,sumdatafm2],\n",
    "            [sumwebfm1,sumwebfm2],\n",
    "            [sumuxfm1,sumuxfm2]]\n",
    "\n",
    "st.chi2_contingency(np.array(mt))"
   ]
  },
  {
   "cell_type": "markdown",
   "metadata": {},
   "source": [
    "## Mask after eat"
   ]
  },
  {
   "cell_type": "code",
   "execution_count": null,
   "metadata": {},
   "outputs": [],
   "source": [
    "data1=day1[day1[\"bootcamp\"]==\"Data\"]\n",
    "data1\n",
    "sumdatamaf1=((data1[\"maskaftereat\"].sum()))\n",
    "sumdatamaf1"
   ]
  },
  {
   "cell_type": "code",
   "execution_count": null,
   "metadata": {},
   "outputs": [],
   "source": [
    "data2=day2[day2[\"bootcamp\"]==\"Data\"]\n",
    "data2\n",
    "sumdatamaf2=((data2[\"maskaftereat\"].sum()))\n",
    "sumdatamaf2"
   ]
  },
  {
   "cell_type": "code",
   "execution_count": null,
   "metadata": {},
   "outputs": [],
   "source": [
    "data3=day3[day3[\"bootcamp\"]==\"Data\"]\n",
    "data3\n",
    "sumdatamaf3=((data3[\"maskaftereat\"].sum()))\n",
    "sumdatamaf3"
   ]
  },
  {
   "cell_type": "code",
   "execution_count": null,
   "metadata": {},
   "outputs": [],
   "source": [
    "web1=day1[day1[\"bootcamp\"]==\"Web\"]\n",
    "web1\n",
    "sumwebmaf1=((web1[\"maskaftereat\"].sum()))\n",
    "sumwebmaf1"
   ]
  },
  {
   "cell_type": "code",
   "execution_count": null,
   "metadata": {},
   "outputs": [],
   "source": [
    "web2=day2[day2[\"bootcamp\"]==\"Web\"]\n",
    "web2\n",
    "sumwebmaf2=((web2[\"maskaftereat\"].sum()))\n",
    "sumwebmaf2"
   ]
  },
  {
   "cell_type": "code",
   "execution_count": null,
   "metadata": {},
   "outputs": [],
   "source": [
    "web3=day3[day3[\"bootcamp\"]==\"Web\"]\n",
    "web3\n",
    "sumwebmaf3=((web3[\"maskaftereat\"].sum()))\n",
    "sumwebmaf3"
   ]
  },
  {
   "cell_type": "code",
   "execution_count": null,
   "metadata": {},
   "outputs": [],
   "source": [
    "ux1=day1[day1[\"bootcamp\"]==\"Ux\"]\n",
    "ux1\n",
    "sumuxmaf1=((ux1[\"maskaftereat\"].sum()))\n",
    "sumuxmaf1"
   ]
  },
  {
   "cell_type": "code",
   "execution_count": null,
   "metadata": {},
   "outputs": [],
   "source": [
    "ux2=day2[day2[\"bootcamp\"]==\"Ux\"]\n",
    "ux2\n",
    "sumuxmaf2=((ux2[\"maskaftereat\"].sum()))\n",
    "sumuxmaf2"
   ]
  },
  {
   "cell_type": "code",
   "execution_count": null,
   "metadata": {},
   "outputs": [],
   "source": [
    "ux3=day3[day3[\"bootcamp\"]==\"Ux\"]\n",
    "ux3\n",
    "sumuxmaf3=((ux3[\"maskaftereat\"].sum()))\n",
    "sumuxmaf3"
   ]
  },
  {
   "cell_type": "code",
   "execution_count": null,
   "metadata": {},
   "outputs": [],
   "source": [
    "mask_aftereat=[[sumdatamaf1,sumdatamaf2,sumdatamaf3],\n",
    "            [sumwebmaf1,sumwebmaf2,sumwebmaf3],\n",
    "            [sumuxmaf1,sumuxmaf2,sumuxmaf3]]\n",
    "\n",
    "st.chi2_contingency(np.array(mask_aftereat))"
   ]
  }
 ],
 "metadata": {
  "kernelspec": {
   "display_name": "Python 3",
   "language": "python",
   "name": "python3"
  },
  "language_info": {
   "codemirror_mode": {
    "name": "ipython",
    "version": 3
   },
   "file_extension": ".py",
   "mimetype": "text/x-python",
   "name": "python",
   "nbconvert_exporter": "python",
   "pygments_lexer": "ipython3",
   "version": "3.8.3"
  }
 },
 "nbformat": 4,
 "nbformat_minor": 4
}
